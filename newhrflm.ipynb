{
  "nbformat": 4,
  "nbformat_minor": 0,
  "metadata": {
    "colab": {
      "provenance": [],
      "include_colab_link": true
    },
    "kernelspec": {
      "name": "python3",
      "display_name": "Python 3"
    },
    "language_info": {
      "name": "python"
    },
    "accelerator": "GPU",
    "gpuClass": "standard"
  },
  "cells": [
    {
      "cell_type": "markdown",
      "metadata": {
        "id": "view-in-github",
        "colab_type": "text"
      },
      "source": [
        "<a href=\"https://colab.research.google.com/github/vasanth18062000/cardiovascular/blob/main/newhrflm.ipynb\" target=\"_parent\"><img src=\"https://colab.research.google.com/assets/colab-badge.svg\" alt=\"Open In Colab\"/></a>"
      ]
    },
    {
      "cell_type": "code",
      "execution_count": null,
      "metadata": {
        "id": "E0gACnA5QBAb"
      },
      "outputs": [],
      "source": [
        "import numpy as np\n",
        "import pandas as pd\n",
        "from sklearn.metrics import accuracy_score\n",
        "from sklearn.model_selection import train_test_split\n",
        "from sklearn.preprocessing import StandardScaler\n",
        "from sklearn.metrics import confusion_matrix\n",
        "from sklearn.metrics import classification_report\n",
        "import matplotlib.pyplot as plt\n",
        "import seaborn as sns"
      ]
    },
    {
      "cell_type": "code",
      "source": [
        "#importing dataset\n",
        "\n",
        "dataset = pd.read_csv('cleveland.csv')\n",
        "dataset\n"
      ],
      "metadata": {
        "id": "Tke1vrivQK4H",
        "colab": {
          "base_uri": "https://localhost:8080/",
          "height": 423
        },
        "outputId": "035470f0-fa44-4606-8765-d72657f065cf"
      },
      "execution_count": null,
      "outputs": [
        {
          "output_type": "execute_result",
          "data": {
            "text/plain": [
              "      age  sex   cp  trestbps   chol  fbs  restecg  thalach  exang  oldpeak  \\\n",
              "0    63.0  1.0  1.0     145.0  233.0  1.0      2.0    150.0    0.0      2.3   \n",
              "1    67.0  1.0  4.0     160.0  286.0  0.0      2.0    108.0    1.0      1.5   \n",
              "2    67.0  1.0  4.0     120.0  229.0  0.0      2.0    129.0    1.0      2.6   \n",
              "3    37.0  1.0  3.0     130.0  250.0  0.0      0.0    187.0    0.0      3.5   \n",
              "4    41.0  0.0  2.0     130.0  204.0  0.0      2.0    172.0    0.0      1.4   \n",
              "..    ...  ...  ...       ...    ...  ...      ...      ...    ...      ...   \n",
              "298  45.0  1.0  1.0     110.0  264.0  0.0      0.0    132.0    0.0      1.2   \n",
              "299  68.0  1.0  4.0     144.0  193.0  1.0      0.0    141.0    0.0      3.4   \n",
              "300  57.0  1.0  4.0     130.0  131.0  0.0      0.0    115.0    1.0      1.2   \n",
              "301  57.0  0.0  2.0     130.0  236.0  0.0      2.0    174.0    0.0      0.0   \n",
              "302  38.0  1.0  3.0     138.0  175.0  0.0      0.0    173.0    0.0      0.0   \n",
              "\n",
              "     slope   ca  thal  num  \n",
              "0      3.0  0.0   6.0    0  \n",
              "1      2.0  3.0   3.0    2  \n",
              "2      2.0  2.0   7.0    1  \n",
              "3      3.0  0.0   3.0    0  \n",
              "4      1.0  0.0   3.0    0  \n",
              "..     ...  ...   ...  ...  \n",
              "298    2.0  0.0   7.0    1  \n",
              "299    2.0  2.0   7.0    2  \n",
              "300    2.0  1.0   7.0    3  \n",
              "301    2.0  1.0   3.0    1  \n",
              "302    1.0  NaN   3.0    0  \n",
              "\n",
              "[303 rows x 14 columns]"
            ],
            "text/html": [
              "\n",
              "  <div id=\"df-a1a115a0-6d11-4248-8d69-f457a0dbbb68\">\n",
              "    <div class=\"colab-df-container\">\n",
              "      <div>\n",
              "<style scoped>\n",
              "    .dataframe tbody tr th:only-of-type {\n",
              "        vertical-align: middle;\n",
              "    }\n",
              "\n",
              "    .dataframe tbody tr th {\n",
              "        vertical-align: top;\n",
              "    }\n",
              "\n",
              "    .dataframe thead th {\n",
              "        text-align: right;\n",
              "    }\n",
              "</style>\n",
              "<table border=\"1\" class=\"dataframe\">\n",
              "  <thead>\n",
              "    <tr style=\"text-align: right;\">\n",
              "      <th></th>\n",
              "      <th>age</th>\n",
              "      <th>sex</th>\n",
              "      <th>cp</th>\n",
              "      <th>trestbps</th>\n",
              "      <th>chol</th>\n",
              "      <th>fbs</th>\n",
              "      <th>restecg</th>\n",
              "      <th>thalach</th>\n",
              "      <th>exang</th>\n",
              "      <th>oldpeak</th>\n",
              "      <th>slope</th>\n",
              "      <th>ca</th>\n",
              "      <th>thal</th>\n",
              "      <th>num</th>\n",
              "    </tr>\n",
              "  </thead>\n",
              "  <tbody>\n",
              "    <tr>\n",
              "      <th>0</th>\n",
              "      <td>63.0</td>\n",
              "      <td>1.0</td>\n",
              "      <td>1.0</td>\n",
              "      <td>145.0</td>\n",
              "      <td>233.0</td>\n",
              "      <td>1.0</td>\n",
              "      <td>2.0</td>\n",
              "      <td>150.0</td>\n",
              "      <td>0.0</td>\n",
              "      <td>2.3</td>\n",
              "      <td>3.0</td>\n",
              "      <td>0.0</td>\n",
              "      <td>6.0</td>\n",
              "      <td>0</td>\n",
              "    </tr>\n",
              "    <tr>\n",
              "      <th>1</th>\n",
              "      <td>67.0</td>\n",
              "      <td>1.0</td>\n",
              "      <td>4.0</td>\n",
              "      <td>160.0</td>\n",
              "      <td>286.0</td>\n",
              "      <td>0.0</td>\n",
              "      <td>2.0</td>\n",
              "      <td>108.0</td>\n",
              "      <td>1.0</td>\n",
              "      <td>1.5</td>\n",
              "      <td>2.0</td>\n",
              "      <td>3.0</td>\n",
              "      <td>3.0</td>\n",
              "      <td>2</td>\n",
              "    </tr>\n",
              "    <tr>\n",
              "      <th>2</th>\n",
              "      <td>67.0</td>\n",
              "      <td>1.0</td>\n",
              "      <td>4.0</td>\n",
              "      <td>120.0</td>\n",
              "      <td>229.0</td>\n",
              "      <td>0.0</td>\n",
              "      <td>2.0</td>\n",
              "      <td>129.0</td>\n",
              "      <td>1.0</td>\n",
              "      <td>2.6</td>\n",
              "      <td>2.0</td>\n",
              "      <td>2.0</td>\n",
              "      <td>7.0</td>\n",
              "      <td>1</td>\n",
              "    </tr>\n",
              "    <tr>\n",
              "      <th>3</th>\n",
              "      <td>37.0</td>\n",
              "      <td>1.0</td>\n",
              "      <td>3.0</td>\n",
              "      <td>130.0</td>\n",
              "      <td>250.0</td>\n",
              "      <td>0.0</td>\n",
              "      <td>0.0</td>\n",
              "      <td>187.0</td>\n",
              "      <td>0.0</td>\n",
              "      <td>3.5</td>\n",
              "      <td>3.0</td>\n",
              "      <td>0.0</td>\n",
              "      <td>3.0</td>\n",
              "      <td>0</td>\n",
              "    </tr>\n",
              "    <tr>\n",
              "      <th>4</th>\n",
              "      <td>41.0</td>\n",
              "      <td>0.0</td>\n",
              "      <td>2.0</td>\n",
              "      <td>130.0</td>\n",
              "      <td>204.0</td>\n",
              "      <td>0.0</td>\n",
              "      <td>2.0</td>\n",
              "      <td>172.0</td>\n",
              "      <td>0.0</td>\n",
              "      <td>1.4</td>\n",
              "      <td>1.0</td>\n",
              "      <td>0.0</td>\n",
              "      <td>3.0</td>\n",
              "      <td>0</td>\n",
              "    </tr>\n",
              "    <tr>\n",
              "      <th>...</th>\n",
              "      <td>...</td>\n",
              "      <td>...</td>\n",
              "      <td>...</td>\n",
              "      <td>...</td>\n",
              "      <td>...</td>\n",
              "      <td>...</td>\n",
              "      <td>...</td>\n",
              "      <td>...</td>\n",
              "      <td>...</td>\n",
              "      <td>...</td>\n",
              "      <td>...</td>\n",
              "      <td>...</td>\n",
              "      <td>...</td>\n",
              "      <td>...</td>\n",
              "    </tr>\n",
              "    <tr>\n",
              "      <th>298</th>\n",
              "      <td>45.0</td>\n",
              "      <td>1.0</td>\n",
              "      <td>1.0</td>\n",
              "      <td>110.0</td>\n",
              "      <td>264.0</td>\n",
              "      <td>0.0</td>\n",
              "      <td>0.0</td>\n",
              "      <td>132.0</td>\n",
              "      <td>0.0</td>\n",
              "      <td>1.2</td>\n",
              "      <td>2.0</td>\n",
              "      <td>0.0</td>\n",
              "      <td>7.0</td>\n",
              "      <td>1</td>\n",
              "    </tr>\n",
              "    <tr>\n",
              "      <th>299</th>\n",
              "      <td>68.0</td>\n",
              "      <td>1.0</td>\n",
              "      <td>4.0</td>\n",
              "      <td>144.0</td>\n",
              "      <td>193.0</td>\n",
              "      <td>1.0</td>\n",
              "      <td>0.0</td>\n",
              "      <td>141.0</td>\n",
              "      <td>0.0</td>\n",
              "      <td>3.4</td>\n",
              "      <td>2.0</td>\n",
              "      <td>2.0</td>\n",
              "      <td>7.0</td>\n",
              "      <td>2</td>\n",
              "    </tr>\n",
              "    <tr>\n",
              "      <th>300</th>\n",
              "      <td>57.0</td>\n",
              "      <td>1.0</td>\n",
              "      <td>4.0</td>\n",
              "      <td>130.0</td>\n",
              "      <td>131.0</td>\n",
              "      <td>0.0</td>\n",
              "      <td>0.0</td>\n",
              "      <td>115.0</td>\n",
              "      <td>1.0</td>\n",
              "      <td>1.2</td>\n",
              "      <td>2.0</td>\n",
              "      <td>1.0</td>\n",
              "      <td>7.0</td>\n",
              "      <td>3</td>\n",
              "    </tr>\n",
              "    <tr>\n",
              "      <th>301</th>\n",
              "      <td>57.0</td>\n",
              "      <td>0.0</td>\n",
              "      <td>2.0</td>\n",
              "      <td>130.0</td>\n",
              "      <td>236.0</td>\n",
              "      <td>0.0</td>\n",
              "      <td>2.0</td>\n",
              "      <td>174.0</td>\n",
              "      <td>0.0</td>\n",
              "      <td>0.0</td>\n",
              "      <td>2.0</td>\n",
              "      <td>1.0</td>\n",
              "      <td>3.0</td>\n",
              "      <td>1</td>\n",
              "    </tr>\n",
              "    <tr>\n",
              "      <th>302</th>\n",
              "      <td>38.0</td>\n",
              "      <td>1.0</td>\n",
              "      <td>3.0</td>\n",
              "      <td>138.0</td>\n",
              "      <td>175.0</td>\n",
              "      <td>0.0</td>\n",
              "      <td>0.0</td>\n",
              "      <td>173.0</td>\n",
              "      <td>0.0</td>\n",
              "      <td>0.0</td>\n",
              "      <td>1.0</td>\n",
              "      <td>NaN</td>\n",
              "      <td>3.0</td>\n",
              "      <td>0</td>\n",
              "    </tr>\n",
              "  </tbody>\n",
              "</table>\n",
              "<p>303 rows × 14 columns</p>\n",
              "</div>\n",
              "      <button class=\"colab-df-convert\" onclick=\"convertToInteractive('df-a1a115a0-6d11-4248-8d69-f457a0dbbb68')\"\n",
              "              title=\"Convert this dataframe to an interactive table.\"\n",
              "              style=\"display:none;\">\n",
              "        \n",
              "  <svg xmlns=\"http://www.w3.org/2000/svg\" height=\"24px\"viewBox=\"0 0 24 24\"\n",
              "       width=\"24px\">\n",
              "    <path d=\"M0 0h24v24H0V0z\" fill=\"none\"/>\n",
              "    <path d=\"M18.56 5.44l.94 2.06.94-2.06 2.06-.94-2.06-.94-.94-2.06-.94 2.06-2.06.94zm-11 1L8.5 8.5l.94-2.06 2.06-.94-2.06-.94L8.5 2.5l-.94 2.06-2.06.94zm10 10l.94 2.06.94-2.06 2.06-.94-2.06-.94-.94-2.06-.94 2.06-2.06.94z\"/><path d=\"M17.41 7.96l-1.37-1.37c-.4-.4-.92-.59-1.43-.59-.52 0-1.04.2-1.43.59L10.3 9.45l-7.72 7.72c-.78.78-.78 2.05 0 2.83L4 21.41c.39.39.9.59 1.41.59.51 0 1.02-.2 1.41-.59l7.78-7.78 2.81-2.81c.8-.78.8-2.07 0-2.86zM5.41 20L4 18.59l7.72-7.72 1.47 1.35L5.41 20z\"/>\n",
              "  </svg>\n",
              "      </button>\n",
              "      \n",
              "  <style>\n",
              "    .colab-df-container {\n",
              "      display:flex;\n",
              "      flex-wrap:wrap;\n",
              "      gap: 12px;\n",
              "    }\n",
              "\n",
              "    .colab-df-convert {\n",
              "      background-color: #E8F0FE;\n",
              "      border: none;\n",
              "      border-radius: 50%;\n",
              "      cursor: pointer;\n",
              "      display: none;\n",
              "      fill: #1967D2;\n",
              "      height: 32px;\n",
              "      padding: 0 0 0 0;\n",
              "      width: 32px;\n",
              "    }\n",
              "\n",
              "    .colab-df-convert:hover {\n",
              "      background-color: #E2EBFA;\n",
              "      box-shadow: 0px 1px 2px rgba(60, 64, 67, 0.3), 0px 1px 3px 1px rgba(60, 64, 67, 0.15);\n",
              "      fill: #174EA6;\n",
              "    }\n",
              "\n",
              "    [theme=dark] .colab-df-convert {\n",
              "      background-color: #3B4455;\n",
              "      fill: #D2E3FC;\n",
              "    }\n",
              "\n",
              "    [theme=dark] .colab-df-convert:hover {\n",
              "      background-color: #434B5C;\n",
              "      box-shadow: 0px 1px 3px 1px rgba(0, 0, 0, 0.15);\n",
              "      filter: drop-shadow(0px 1px 2px rgba(0, 0, 0, 0.3));\n",
              "      fill: #FFFFFF;\n",
              "    }\n",
              "  </style>\n",
              "\n",
              "      <script>\n",
              "        const buttonEl =\n",
              "          document.querySelector('#df-a1a115a0-6d11-4248-8d69-f457a0dbbb68 button.colab-df-convert');\n",
              "        buttonEl.style.display =\n",
              "          google.colab.kernel.accessAllowed ? 'block' : 'none';\n",
              "\n",
              "        async function convertToInteractive(key) {\n",
              "          const element = document.querySelector('#df-a1a115a0-6d11-4248-8d69-f457a0dbbb68');\n",
              "          const dataTable =\n",
              "            await google.colab.kernel.invokeFunction('convertToInteractive',\n",
              "                                                     [key], {});\n",
              "          if (!dataTable) return;\n",
              "\n",
              "          const docLinkHtml = 'Like what you see? Visit the ' +\n",
              "            '<a target=\"_blank\" href=https://colab.research.google.com/notebooks/data_table.ipynb>data table notebook</a>'\n",
              "            + ' to learn more about interactive tables.';\n",
              "          element.innerHTML = '';\n",
              "          dataTable['output_type'] = 'display_data';\n",
              "          await google.colab.output.renderOutput(dataTable, element);\n",
              "          const docLink = document.createElement('div');\n",
              "          docLink.innerHTML = docLinkHtml;\n",
              "          element.appendChild(docLink);\n",
              "        }\n",
              "      </script>\n",
              "    </div>\n",
              "  </div>\n",
              "  "
            ]
          },
          "metadata": {},
          "execution_count": 26
        }
      ]
    },
    {
      "cell_type": "code",
      "source": [
        "#feature selection\n",
        "dataset.columns = ['age', 'sex', 'cp', 'trestbps', 'chol', 'fbs', 'restecg', 'thalach', 'exang', 'oldpeak', 'slope', 'ca', 'thal', 'num']\n",
        "dataset.columns"
      ],
      "metadata": {
        "colab": {
          "base_uri": "https://localhost:8080/"
        },
        "id": "8DW6ndFT07Qd",
        "outputId": "84b6492f-d5db-4817-8247-80254b4fbb07"
      },
      "execution_count": null,
      "outputs": [
        {
          "output_type": "execute_result",
          "data": {
            "text/plain": [
              "Index(['age', 'sex', 'cp', 'trestbps', 'chol', 'fbs', 'restecg', 'thalach',\n",
              "       'exang', 'oldpeak', 'slope', 'ca', 'thal', 'num'],\n",
              "      dtype='object')"
            ]
          },
          "metadata": {},
          "execution_count": 27
        }
      ]
    },
    {
      "cell_type": "code",
      "source": [
        "dataset.where(dataset != '?', np.nan, inplace=True)\n",
        "dataset['num'] = dataset['num'].map({0: 0, 1: 1, 2: 1, 3: 1, 4: 1})\n",
        "null_columns = dataset.isna().sum()\n",
        "for col_name, num_null_values in null_columns.iteritems():\n",
        "  if (num_null_values != 0):\n",
        "    dataset[col_name].fillna(dataset[col_name].mode()[0], inplace=True)\n",
        "\n",
        "X = dataset.iloc[:, :-1]\n",
        "y = dataset.iloc[:, -1]\n",
        "scaler = StandardScaler()\n",
        "X = scaler.fit_transform(X)\n",
        "X_train, X_test, y_train, y_test = train_test_split(X, y, test_size=0.2, random_state=42)\n",
        "dataset=dataset.astype(int)\n",
        "\n"
      ],
      "metadata": {
        "id": "EvBmf9M11LcR"
      },
      "execution_count": null,
      "outputs": []
    },
    {
      "cell_type": "code",
      "source": [
        "\n"
      ],
      "metadata": {
        "id": "jtm7UjpP1mbh"
      },
      "execution_count": null,
      "outputs": []
    },
    {
      "cell_type": "code",
      "source": [
        "dataset.info()"
      ],
      "metadata": {
        "id": "Qw24jtwweaDd",
        "colab": {
          "base_uri": "https://localhost:8080/"
        },
        "outputId": "2373fd08-b468-4b22-bf75-034a60e6c830"
      },
      "execution_count": null,
      "outputs": [
        {
          "output_type": "stream",
          "name": "stdout",
          "text": [
            "<class 'pandas.core.frame.DataFrame'>\n",
            "RangeIndex: 303 entries, 0 to 302\n",
            "Data columns (total 14 columns):\n",
            " #   Column    Non-Null Count  Dtype\n",
            "---  ------    --------------  -----\n",
            " 0   age       303 non-null    int64\n",
            " 1   sex       303 non-null    int64\n",
            " 2   cp        303 non-null    int64\n",
            " 3   trestbps  303 non-null    int64\n",
            " 4   chol      303 non-null    int64\n",
            " 5   fbs       303 non-null    int64\n",
            " 6   restecg   303 non-null    int64\n",
            " 7   thalach   303 non-null    int64\n",
            " 8   exang     303 non-null    int64\n",
            " 9   oldpeak   303 non-null    int64\n",
            " 10  slope     303 non-null    int64\n",
            " 11  ca        303 non-null    int64\n",
            " 12  thal      303 non-null    int64\n",
            " 13  num       303 non-null    int64\n",
            "dtypes: int64(14)\n",
            "memory usage: 33.3 KB\n"
          ]
        }
      ]
    },
    {
      "cell_type": "code",
      "source": [
        "dataset"
      ],
      "metadata": {
        "colab": {
          "base_uri": "https://localhost:8080/",
          "height": 423
        },
        "id": "LRtfm6e5gbiv",
        "outputId": "0bccff47-e505-4318-bf9b-207894de3d03"
      },
      "execution_count": null,
      "outputs": [
        {
          "output_type": "execute_result",
          "data": {
            "text/plain": [
              "     age  sex  cp  trestbps  chol  fbs  restecg  thalach  exang  oldpeak  \\\n",
              "0     63    1   1       145   233    1        2      150      0        2   \n",
              "1     67    1   4       160   286    0        2      108      1        1   \n",
              "2     67    1   4       120   229    0        2      129      1        2   \n",
              "3     37    1   3       130   250    0        0      187      0        3   \n",
              "4     41    0   2       130   204    0        2      172      0        1   \n",
              "..   ...  ...  ..       ...   ...  ...      ...      ...    ...      ...   \n",
              "298   45    1   1       110   264    0        0      132      0        1   \n",
              "299   68    1   4       144   193    1        0      141      0        3   \n",
              "300   57    1   4       130   131    0        0      115      1        1   \n",
              "301   57    0   2       130   236    0        2      174      0        0   \n",
              "302   38    1   3       138   175    0        0      173      0        0   \n",
              "\n",
              "     slope  ca  thal  num  \n",
              "0        3   0     6    0  \n",
              "1        2   3     3    1  \n",
              "2        2   2     7    1  \n",
              "3        3   0     3    0  \n",
              "4        1   0     3    0  \n",
              "..     ...  ..   ...  ...  \n",
              "298      2   0     7    1  \n",
              "299      2   2     7    1  \n",
              "300      2   1     7    1  \n",
              "301      2   1     3    1  \n",
              "302      1   0     3    0  \n",
              "\n",
              "[303 rows x 14 columns]"
            ],
            "text/html": [
              "\n",
              "  <div id=\"df-fb99460c-9354-407f-b39b-628f9c0a3b19\">\n",
              "    <div class=\"colab-df-container\">\n",
              "      <div>\n",
              "<style scoped>\n",
              "    .dataframe tbody tr th:only-of-type {\n",
              "        vertical-align: middle;\n",
              "    }\n",
              "\n",
              "    .dataframe tbody tr th {\n",
              "        vertical-align: top;\n",
              "    }\n",
              "\n",
              "    .dataframe thead th {\n",
              "        text-align: right;\n",
              "    }\n",
              "</style>\n",
              "<table border=\"1\" class=\"dataframe\">\n",
              "  <thead>\n",
              "    <tr style=\"text-align: right;\">\n",
              "      <th></th>\n",
              "      <th>age</th>\n",
              "      <th>sex</th>\n",
              "      <th>cp</th>\n",
              "      <th>trestbps</th>\n",
              "      <th>chol</th>\n",
              "      <th>fbs</th>\n",
              "      <th>restecg</th>\n",
              "      <th>thalach</th>\n",
              "      <th>exang</th>\n",
              "      <th>oldpeak</th>\n",
              "      <th>slope</th>\n",
              "      <th>ca</th>\n",
              "      <th>thal</th>\n",
              "      <th>num</th>\n",
              "    </tr>\n",
              "  </thead>\n",
              "  <tbody>\n",
              "    <tr>\n",
              "      <th>0</th>\n",
              "      <td>63</td>\n",
              "      <td>1</td>\n",
              "      <td>1</td>\n",
              "      <td>145</td>\n",
              "      <td>233</td>\n",
              "      <td>1</td>\n",
              "      <td>2</td>\n",
              "      <td>150</td>\n",
              "      <td>0</td>\n",
              "      <td>2</td>\n",
              "      <td>3</td>\n",
              "      <td>0</td>\n",
              "      <td>6</td>\n",
              "      <td>0</td>\n",
              "    </tr>\n",
              "    <tr>\n",
              "      <th>1</th>\n",
              "      <td>67</td>\n",
              "      <td>1</td>\n",
              "      <td>4</td>\n",
              "      <td>160</td>\n",
              "      <td>286</td>\n",
              "      <td>0</td>\n",
              "      <td>2</td>\n",
              "      <td>108</td>\n",
              "      <td>1</td>\n",
              "      <td>1</td>\n",
              "      <td>2</td>\n",
              "      <td>3</td>\n",
              "      <td>3</td>\n",
              "      <td>1</td>\n",
              "    </tr>\n",
              "    <tr>\n",
              "      <th>2</th>\n",
              "      <td>67</td>\n",
              "      <td>1</td>\n",
              "      <td>4</td>\n",
              "      <td>120</td>\n",
              "      <td>229</td>\n",
              "      <td>0</td>\n",
              "      <td>2</td>\n",
              "      <td>129</td>\n",
              "      <td>1</td>\n",
              "      <td>2</td>\n",
              "      <td>2</td>\n",
              "      <td>2</td>\n",
              "      <td>7</td>\n",
              "      <td>1</td>\n",
              "    </tr>\n",
              "    <tr>\n",
              "      <th>3</th>\n",
              "      <td>37</td>\n",
              "      <td>1</td>\n",
              "      <td>3</td>\n",
              "      <td>130</td>\n",
              "      <td>250</td>\n",
              "      <td>0</td>\n",
              "      <td>0</td>\n",
              "      <td>187</td>\n",
              "      <td>0</td>\n",
              "      <td>3</td>\n",
              "      <td>3</td>\n",
              "      <td>0</td>\n",
              "      <td>3</td>\n",
              "      <td>0</td>\n",
              "    </tr>\n",
              "    <tr>\n",
              "      <th>4</th>\n",
              "      <td>41</td>\n",
              "      <td>0</td>\n",
              "      <td>2</td>\n",
              "      <td>130</td>\n",
              "      <td>204</td>\n",
              "      <td>0</td>\n",
              "      <td>2</td>\n",
              "      <td>172</td>\n",
              "      <td>0</td>\n",
              "      <td>1</td>\n",
              "      <td>1</td>\n",
              "      <td>0</td>\n",
              "      <td>3</td>\n",
              "      <td>0</td>\n",
              "    </tr>\n",
              "    <tr>\n",
              "      <th>...</th>\n",
              "      <td>...</td>\n",
              "      <td>...</td>\n",
              "      <td>...</td>\n",
              "      <td>...</td>\n",
              "      <td>...</td>\n",
              "      <td>...</td>\n",
              "      <td>...</td>\n",
              "      <td>...</td>\n",
              "      <td>...</td>\n",
              "      <td>...</td>\n",
              "      <td>...</td>\n",
              "      <td>...</td>\n",
              "      <td>...</td>\n",
              "      <td>...</td>\n",
              "    </tr>\n",
              "    <tr>\n",
              "      <th>298</th>\n",
              "      <td>45</td>\n",
              "      <td>1</td>\n",
              "      <td>1</td>\n",
              "      <td>110</td>\n",
              "      <td>264</td>\n",
              "      <td>0</td>\n",
              "      <td>0</td>\n",
              "      <td>132</td>\n",
              "      <td>0</td>\n",
              "      <td>1</td>\n",
              "      <td>2</td>\n",
              "      <td>0</td>\n",
              "      <td>7</td>\n",
              "      <td>1</td>\n",
              "    </tr>\n",
              "    <tr>\n",
              "      <th>299</th>\n",
              "      <td>68</td>\n",
              "      <td>1</td>\n",
              "      <td>4</td>\n",
              "      <td>144</td>\n",
              "      <td>193</td>\n",
              "      <td>1</td>\n",
              "      <td>0</td>\n",
              "      <td>141</td>\n",
              "      <td>0</td>\n",
              "      <td>3</td>\n",
              "      <td>2</td>\n",
              "      <td>2</td>\n",
              "      <td>7</td>\n",
              "      <td>1</td>\n",
              "    </tr>\n",
              "    <tr>\n",
              "      <th>300</th>\n",
              "      <td>57</td>\n",
              "      <td>1</td>\n",
              "      <td>4</td>\n",
              "      <td>130</td>\n",
              "      <td>131</td>\n",
              "      <td>0</td>\n",
              "      <td>0</td>\n",
              "      <td>115</td>\n",
              "      <td>1</td>\n",
              "      <td>1</td>\n",
              "      <td>2</td>\n",
              "      <td>1</td>\n",
              "      <td>7</td>\n",
              "      <td>1</td>\n",
              "    </tr>\n",
              "    <tr>\n",
              "      <th>301</th>\n",
              "      <td>57</td>\n",
              "      <td>0</td>\n",
              "      <td>2</td>\n",
              "      <td>130</td>\n",
              "      <td>236</td>\n",
              "      <td>0</td>\n",
              "      <td>2</td>\n",
              "      <td>174</td>\n",
              "      <td>0</td>\n",
              "      <td>0</td>\n",
              "      <td>2</td>\n",
              "      <td>1</td>\n",
              "      <td>3</td>\n",
              "      <td>1</td>\n",
              "    </tr>\n",
              "    <tr>\n",
              "      <th>302</th>\n",
              "      <td>38</td>\n",
              "      <td>1</td>\n",
              "      <td>3</td>\n",
              "      <td>138</td>\n",
              "      <td>175</td>\n",
              "      <td>0</td>\n",
              "      <td>0</td>\n",
              "      <td>173</td>\n",
              "      <td>0</td>\n",
              "      <td>0</td>\n",
              "      <td>1</td>\n",
              "      <td>0</td>\n",
              "      <td>3</td>\n",
              "      <td>0</td>\n",
              "    </tr>\n",
              "  </tbody>\n",
              "</table>\n",
              "<p>303 rows × 14 columns</p>\n",
              "</div>\n",
              "      <button class=\"colab-df-convert\" onclick=\"convertToInteractive('df-fb99460c-9354-407f-b39b-628f9c0a3b19')\"\n",
              "              title=\"Convert this dataframe to an interactive table.\"\n",
              "              style=\"display:none;\">\n",
              "        \n",
              "  <svg xmlns=\"http://www.w3.org/2000/svg\" height=\"24px\"viewBox=\"0 0 24 24\"\n",
              "       width=\"24px\">\n",
              "    <path d=\"M0 0h24v24H0V0z\" fill=\"none\"/>\n",
              "    <path d=\"M18.56 5.44l.94 2.06.94-2.06 2.06-.94-2.06-.94-.94-2.06-.94 2.06-2.06.94zm-11 1L8.5 8.5l.94-2.06 2.06-.94-2.06-.94L8.5 2.5l-.94 2.06-2.06.94zm10 10l.94 2.06.94-2.06 2.06-.94-2.06-.94-.94-2.06-.94 2.06-2.06.94z\"/><path d=\"M17.41 7.96l-1.37-1.37c-.4-.4-.92-.59-1.43-.59-.52 0-1.04.2-1.43.59L10.3 9.45l-7.72 7.72c-.78.78-.78 2.05 0 2.83L4 21.41c.39.39.9.59 1.41.59.51 0 1.02-.2 1.41-.59l7.78-7.78 2.81-2.81c.8-.78.8-2.07 0-2.86zM5.41 20L4 18.59l7.72-7.72 1.47 1.35L5.41 20z\"/>\n",
              "  </svg>\n",
              "      </button>\n",
              "      \n",
              "  <style>\n",
              "    .colab-df-container {\n",
              "      display:flex;\n",
              "      flex-wrap:wrap;\n",
              "      gap: 12px;\n",
              "    }\n",
              "\n",
              "    .colab-df-convert {\n",
              "      background-color: #E8F0FE;\n",
              "      border: none;\n",
              "      border-radius: 50%;\n",
              "      cursor: pointer;\n",
              "      display: none;\n",
              "      fill: #1967D2;\n",
              "      height: 32px;\n",
              "      padding: 0 0 0 0;\n",
              "      width: 32px;\n",
              "    }\n",
              "\n",
              "    .colab-df-convert:hover {\n",
              "      background-color: #E2EBFA;\n",
              "      box-shadow: 0px 1px 2px rgba(60, 64, 67, 0.3), 0px 1px 3px 1px rgba(60, 64, 67, 0.15);\n",
              "      fill: #174EA6;\n",
              "    }\n",
              "\n",
              "    [theme=dark] .colab-df-convert {\n",
              "      background-color: #3B4455;\n",
              "      fill: #D2E3FC;\n",
              "    }\n",
              "\n",
              "    [theme=dark] .colab-df-convert:hover {\n",
              "      background-color: #434B5C;\n",
              "      box-shadow: 0px 1px 3px 1px rgba(0, 0, 0, 0.15);\n",
              "      filter: drop-shadow(0px 1px 2px rgba(0, 0, 0, 0.3));\n",
              "      fill: #FFFFFF;\n",
              "    }\n",
              "  </style>\n",
              "\n",
              "      <script>\n",
              "        const buttonEl =\n",
              "          document.querySelector('#df-fb99460c-9354-407f-b39b-628f9c0a3b19 button.colab-df-convert');\n",
              "        buttonEl.style.display =\n",
              "          google.colab.kernel.accessAllowed ? 'block' : 'none';\n",
              "\n",
              "        async function convertToInteractive(key) {\n",
              "          const element = document.querySelector('#df-fb99460c-9354-407f-b39b-628f9c0a3b19');\n",
              "          const dataTable =\n",
              "            await google.colab.kernel.invokeFunction('convertToInteractive',\n",
              "                                                     [key], {});\n",
              "          if (!dataTable) return;\n",
              "\n",
              "          const docLinkHtml = 'Like what you see? Visit the ' +\n",
              "            '<a target=\"_blank\" href=https://colab.research.google.com/notebooks/data_table.ipynb>data table notebook</a>'\n",
              "            + ' to learn more about interactive tables.';\n",
              "          element.innerHTML = '';\n",
              "          dataTable['output_type'] = 'display_data';\n",
              "          await google.colab.output.renderOutput(dataTable, element);\n",
              "          const docLink = document.createElement('div');\n",
              "          docLink.innerHTML = docLinkHtml;\n",
              "          element.appendChild(docLink);\n",
              "        }\n",
              "      </script>\n",
              "    </div>\n",
              "  </div>\n",
              "  "
            ]
          },
          "metadata": {},
          "execution_count": 30
        }
      ]
    },
    {
      "cell_type": "code",
      "source": [
        "#RandomForest Classifier\n",
        "\n",
        "from sklearn.ensemble import RandomForestClassifier\n",
        "rfClassifier = RandomForestClassifier(random_state = 42,n_estimators=10)\n",
        "rfClassifier.fit(X_train, y_train)\n",
        "y_pred_rf = rfClassifier.predict(X_test)\n",
        "accuracy_rf = accuracy_score(y_pred_rf,y_test)\n",
        "print(\"Random Forest Classifier accuracy : \"+str(accuracy_rf))\n",
        "\n",
        "from matplotlib import pyplot as plot\n",
        "from sklearn import tree\n",
        "fig=plt.figure()\n",
        "tree.plot_tree(rfClassifier.estimators_[0])\n",
        "plot.show()"
      ],
      "metadata": {
        "colab": {
          "base_uri": "https://localhost:8080/",
          "height": 266
        },
        "id": "lc1N34R3ZmF1",
        "outputId": "67f97405-c80b-4ec4-d58c-86491cd66d65"
      },
      "execution_count": null,
      "outputs": [
        {
          "output_type": "stream",
          "name": "stdout",
          "text": [
            "Random Forest Classifier accuracy : 0.8360655737704918\n"
          ]
        },
        {
          "output_type": "display_data",
          "data": {
            "text/plain": [
              "<Figure size 432x288 with 1 Axes>"
            ],
            "image/png": "[encoded data removed]"
          },
          "metadata": {
            "needs_background": "light"
          }
        }
      ]
    },
    {
      "cell_type": "code",
      "source": [
        "\n",
        "print('Confusion Matrix :\\n', confusion_matrix(y_test, y_pred_rf))\n",
        "print()\n",
        "print('Error Rate       :', (1-(accuracy_rf)))\n",
        "cm=confusion_matrix(y_test,y_pred_rf)\n",
        "TN=cm[0,0]\n",
        "FP=cm[0,1]\n",
        "FN=cm[1,0]\n",
        "TP=cm[1,1]\n",
        "sensitivity=float(TP)/(TP+FN)\n",
        "print(\"sensitivity:\",sensitivity)\n",
        "precision=float(TP)/(TP+FP)\n",
        "print(\"precision:\",precision)\n",
        "specificity=float(TN)/(TN+FP)\n",
        "print(\"specificity\",specificity)\n",
        "print('Classification Report :', classification_report(y_test,y_pred_rf))"
      ],
      "metadata": {
        "colab": {
          "base_uri": "https://localhost:8080/"
        },
        "id": "h-v8bUbhAJIP",
        "outputId": "71d2ecd4-5a2c-4c9f-f796-d6179cd2526d"
      },
      "execution_count": null,
      "outputs": [
        {
          "output_type": "stream",
          "name": "stdout",
          "text": [
            "Confusion Matrix :\n",
            " [[26  3]\n",
            " [ 7 25]]\n",
            "\n",
            "Error Rate       : 0.16393442622950816\n",
            "sensitivity: 0.78125\n",
            "precision: 0.8928571428571429\n",
            "specificity 0.896551724137931\n",
            "Classification Report :               precision    recall  f1-score   support\n",
            "\n",
            "           0       0.79      0.90      0.84        29\n",
            "           1       0.89      0.78      0.83        32\n",
            "\n",
            "    accuracy                           0.84        61\n",
            "   macro avg       0.84      0.84      0.84        61\n",
            "weighted avg       0.84      0.84      0.84        61\n",
            "\n"
          ]
        }
      ]
    },
    {
      "cell_type": "code",
      "source": [
        "original = pd.DataFrame(X_test,columns=dataset.columns[0:-1])\n",
        "y_test.index = original.index\n",
        "original['num'] = y_test\n",
        "\n",
        "predicted = pd.DataFrame(X_test,columns=dataset.columns[0:-1])"
      ],
      "metadata": {
        "id": "b3B6bt2oMlvD"
      },
      "execution_count": null,
      "outputs": []
    },
    {
      "cell_type": "code",
      "source": [
        "predicted['num'] = y_pred_rf\n",
        "\n",
        "plt.subplot(1, 2, 1)\n",
        "scatter = plt.scatter(x=original.oldpeak, y=original.exang,c=original.num.astype('category').cat.codes)\n",
        "handler=scatter.legend_elements()[0]\n",
        "plt.grid()\n",
        "plt.xlabel(\"oldpeak\")\n",
        "plt.ylabel(\"exang\")\n",
        "plt.title(\"Original Points of Test Dataset\",pad = 20)\n",
        "\n",
        "plt.subplot(1, 2, 2)\n",
        "scatter = plt.scatter(x=predicted.oldpeak,y=predicted.exang,c=predicted.num.astype('category').cat.codes)\n",
        "handler=scatter.legend_elements()[0]\n",
        "plt.grid()\n",
        "plt.xlabel(\"oldpeak\")\n",
        "plt.ylabel(\"exang\")\n",
        "plt.title(\"Predicted Points of Test Dataset\",pad = 20)\n",
        "\n",
        "plt.subplots_adjust(right=2.75,top=1.123,wspace=0.125)\n",
        "plt.show()"
      ],
      "metadata": {
        "colab": {
          "base_uri": "https://localhost:8080/",
          "height": 320
        },
        "id": "5CN_0WpkNUDG",
        "outputId": "62aaacbc-cf16-43fa-faee-73c133d6e746"
      },
      "execution_count": null,
      "outputs": [
        {
          "output_type": "display_data",
          "data": {
            "text/plain": [
              "<Figure size 432x288 with 2 Axes>"
            ],
            "image/png": "[encoded data removed]"
          },
          "metadata": {
            "needs_background": "light"
          }
        }
      ]
    },
    {
      "cell_type": "code",
      "source": [
        "#Naive Bayes\n",
        "\n",
        "from sklearn.naive_bayes import GaussianNB\n",
        "nbc = GaussianNB()\n",
        "pred_nbc = nbc.fit(X_train, y_train).predict(X_test)\n",
        "print(\"naive bayes:   \",accuracy_score(y_test,pred_nbc))"
      ],
      "metadata": {
        "colab": {
          "base_uri": "https://localhost:8080/"
        },
        "id": "UBMZlw5YRwys",
        "outputId": "766846c5-5a5f-4677-f19b-3b71a6af56e1"
      },
      "execution_count": null,
      "outputs": [
        {
          "output_type": "stream",
          "name": "stdout",
          "text": [
            "naive bayes:    0.8360655737704918\n"
          ]
        }
      ]
    },
    {
      "cell_type": "code",
      "source": [
        "print('Confusion Matrix :\\n', confusion_matrix(y_test, pred_nbc))\n",
        "print()\n",
        "print('Error Rate       :', (1-(accuracy_score(y_test,pred_nbc))))\n",
        "cm=confusion_matrix(y_test,pred_nbc)\n",
        "TN=cm[0,0]\n",
        "FP=cm[0,1]\n",
        "FN=cm[1,0]\n",
        "TP=cm[1,1]\n",
        "sensitivity=float(TP)/(TP+FN)\n",
        "print(\"sensitivity      :\",sensitivity)\n",
        "precision=float(TP)/(TP+FP)\n",
        "print(\"precision        :\",precision)\n",
        "specificity=float(TN)/(TN+FP)\n",
        "print(\"specificity      :\",specificity)\n",
        "print('Classification Report :', classification_report(y_test,pred_nbc))"
      ],
      "metadata": {
        "colab": {
          "base_uri": "https://localhost:8080/"
        },
        "id": "R0khvPLUCwxc",
        "outputId": "e9129fa0-90b1-420c-c671-6c23e9ee268d"
      },
      "execution_count": null,
      "outputs": [
        {
          "output_type": "stream",
          "name": "stdout",
          "text": [
            "Confusion Matrix :\n",
            " [[26  3]\n",
            " [ 7 25]]\n",
            "\n",
            "Error Rate       : 0.16393442622950816\n",
            "sensitivity      : 0.78125\n",
            "precision        : 0.8928571428571429\n",
            "specificity      : 0.896551724137931\n",
            "Classification Report :               precision    recall  f1-score   support\n",
            "\n",
            "           0       0.79      0.90      0.84        29\n",
            "           1       0.89      0.78      0.83        32\n",
            "\n",
            "    accuracy                           0.84        61\n",
            "   macro avg       0.84      0.84      0.84        61\n",
            "weighted avg       0.84      0.84      0.84        61\n",
            "\n"
          ]
        }
      ]
    },
    {
      "cell_type": "code",
      "source": [
        "#For gaussian Naive bayes\n",
        "predicted['num'] = pred_nbc\n",
        "\n",
        "plt.subplot(1, 2, 1)\n",
        "scatter = plt.scatter(x=original.oldpeak, y=original.exang,c=original.num.astype('category').cat.codes)\n",
        "handler=scatter.legend_elements()[0]\n",
        "plt.grid()\n",
        "plt.xlabel(\"oldpeak\")\n",
        "plt.ylabel(\"exang\")\n",
        "plt.title(\"Original Points of Test Dataset\",pad = 20)\n",
        "\n",
        "plt.subplot(1, 2, 2)\n",
        "scatter = plt.scatter(x=predicted.oldpeak,y=predicted.exang,c=predicted.num.astype('category').cat.codes)\n",
        "handler=scatter.legend_elements()[0]\n",
        "plt.grid()\n",
        "plt.xlabel(\"oldpeak\")\n",
        "plt.ylabel(\"exang\")\n",
        "plt.title(\"Predicted Points of Test Dataset\",pad = 20)\n",
        "\n",
        "plt.subplots_adjust(right=2.75,top=1.123,wspace=0.125)\n",
        "plt.show()"
      ],
      "metadata": {
        "colab": {
          "base_uri": "https://localhost:8080/",
          "height": 320
        },
        "id": "iVnlQE76Nfox",
        "outputId": "bb6083bb-26f7-4b1c-ad66-c899dab73fe1"
      },
      "execution_count": null,
      "outputs": [
        {
          "output_type": "display_data",
          "data": {
            "text/plain": [
              "<Figure size 432x288 with 2 Axes>"
            ],
            "image/png": "[encoded data removed]"
          },
          "metadata": {
            "needs_background": "light"
          }
        }
      ]
    },
    {
      "cell_type": "code",
      "source": [
        "#Decision Tree\n",
        "\n",
        "from sklearn.tree import DecisionTreeClassifier\n",
        "dtc = DecisionTreeClassifier(max_depth=5)\n",
        "pred_dtc = dtc.fit(X_train, y_train).predict(X_test)\n",
        "print(\"decision tree:   \",accuracy_score(y_test,pred_dtc))"
      ],
      "metadata": {
        "colab": {
          "base_uri": "https://localhost:8080/"
        },
        "id": "nj0No3ETSC7i",
        "outputId": "4bb1bdb1-9665-42a4-9956-7530128cfd68"
      },
      "execution_count": null,
      "outputs": [
        {
          "output_type": "stream",
          "name": "stdout",
          "text": [
            "decision tree:    0.7377049180327869\n"
          ]
        }
      ]
    },
    {
      "cell_type": "code",
      "source": [
        "print('Confusion Matrix :\\n', confusion_matrix(y_test, pred_dtc))\n",
        "print()\n",
        "print('Error Rate       :', (1-(accuracy_score(y_test,pred_dtc))))\n",
        "cm=confusion_matrix(y_test,pred_dtc)\n",
        "TN=cm[0,0]\n",
        "FP=cm[0,1]\n",
        "FN=cm[1,0]\n",
        "TP=cm[1,1]\n",
        "sensitivity=float(TP)/(TP+FN)\n",
        "print(\"sensitivity      :\",sensitivity)\n",
        "precision=float(TP)/(TP+FP)\n",
        "print(\"precision        :\",precision)\n",
        "specificity=float(TN)/(TN+FP)\n",
        "print(\"specificity      :\",specificity)\n",
        "print('Classification Report :', classification_report(y_test,pred_dtc))"
      ],
      "metadata": {
        "colab": {
          "base_uri": "https://localhost:8080/"
        },
        "id": "RYe5gfZVDOVw",
        "outputId": "e7b1e053-981f-4f87-b656-b2e27e3439e0"
      },
      "execution_count": null,
      "outputs": [
        {
          "output_type": "stream",
          "name": "stdout",
          "text": [
            "Confusion Matrix :\n",
            " [[24  5]\n",
            " [11 21]]\n",
            "\n",
            "Error Rate       : 0.2622950819672131\n",
            "sensitivity      : 0.65625\n",
            "precision        : 0.8076923076923077\n",
            "specificity      : 0.8275862068965517\n",
            "Classification Report :               precision    recall  f1-score   support\n",
            "\n",
            "           0       0.69      0.83      0.75        29\n",
            "           1       0.81      0.66      0.72        32\n",
            "\n",
            "    accuracy                           0.74        61\n",
            "   macro avg       0.75      0.74      0.74        61\n",
            "weighted avg       0.75      0.74      0.74        61\n",
            "\n"
          ]
        }
      ]
    },
    {
      "cell_type": "code",
      "source": [
        "from sklearn import tree\n",
        "tree.plot_tree(dtc,filled=True)\n",
        "\n",
        "plt.figure(figsize=(25,50))\n",
        "plt.show()"
      ],
      "metadata": {
        "colab": {
          "base_uri": "https://localhost:8080/",
          "height": 266
        },
        "id": "2hNtXTNl8cuT",
        "outputId": "6a3ef621-ff01-4d35-96e7-7e9ff316383f"
      },
      "execution_count": null,
      "outputs": [
        {
          "output_type": "display_data",
          "data": {
            "text/plain": [
              "<Figure size 432x288 with 1 Axes>"
            ],
            "image/png": "[encoded data removed]"
          },
          "metadata": {
            "needs_background": "light"
          }
        },
        {
          "output_type": "display_data",
          "data": {
            "text/plain": [
              "<Figure size 1800x3600 with 0 Axes>"
            ]
          },
          "metadata": {}
        }
      ]
    },
    {
      "cell_type": "code",
      "source": [
        "predicted['num'] = pred_dtc\n",
        "\n",
        "plt.subplot(1, 2, 1)\n",
        "scatter = plt.scatter(x=original.oldpeak, y=original.exang,c=original.num.astype('category').cat.codes)\n",
        "handler=scatter.legend_elements()[0]\n",
        "plt.grid()\n",
        "plt.xlabel(\"oldpeak\")\n",
        "plt.ylabel(\"exang\")\n",
        "plt.title(\"Original Points of Test Dataset\",pad = 20)\n",
        "\n",
        "plt.subplot(1, 2, 2)\n",
        "scatter = plt.scatter(x=predicted.oldpeak,y=predicted.exang,c=predicted.num.astype('category').cat.codes)\n",
        "handler=scatter.legend_elements()[0]\n",
        "plt.grid()\n",
        "plt.xlabel(\"oldpeak\")\n",
        "plt.ylabel(\"exang\")\n",
        "plt.title(\"Predicted Points of Test Dataset\",pad = 20)\n",
        "\n",
        "plt.subplots_adjust(right=2.75,top=1.123,wspace=0.125)\n",
        "plt.show()"
      ],
      "metadata": {
        "colab": {
          "base_uri": "https://localhost:8080/",
          "height": 320
        },
        "id": "RZWe0EAlM73t",
        "outputId": "fa5f8a73-cd3c-44c3-ddfe-f6eec82a1482"
      },
      "execution_count": null,
      "outputs": [
        {
          "output_type": "display_data",
          "data": {
            "text/plain": [
              "<Figure size 432x288 with 2 Axes>"
            ],
            "image/png": "[encoded data removed]"
          },
          "metadata": {
            "needs_background": "light"
          }
        }
      ]
    },
    {
      "cell_type": "code",
      "source": [
        "#SVM linear\n",
        "\n",
        "from sklearn.svm import SVC\n",
        "svc_l = SVC(kernel=\"linear\", C=10, gamma=0.1)\n",
        "pred_svc_l = svc_l.fit(X_train, y_train).predict(X_test)\n",
        "print(\"svm linear:   \",accuracy_score(y_test,pred_svc_l))\n"
      ],
      "metadata": {
        "colab": {
          "base_uri": "https://localhost:8080/"
        },
        "id": "DicYSjYVSXNS",
        "outputId": "e1b69acb-1759-4398-9d92-e413ab1221ce"
      },
      "execution_count": null,
      "outputs": [
        {
          "output_type": "stream",
          "name": "stdout",
          "text": [
            "svm linear:    0.8688524590163934\n"
          ]
        }
      ]
    },
    {
      "cell_type": "code",
      "source": [
        "predicted['num'] = pred_svc_l\n",
        "\n",
        "plt.subplot(1, 2, 1)\n",
        "scatter = plt.scatter(x=original.oldpeak, y=original.exang,c=original.num.astype('category').cat.codes)\n",
        "handler=scatter.legend_elements()[0]\n",
        "plt.grid()\n",
        "plt.xlabel(\"oldpeak\")\n",
        "plt.ylabel(\"exang\")\n",
        "plt.title(\"Original Points of Test Dataset\",pad = 20)\n",
        "\n",
        "plt.subplot(1, 2, 2)\n",
        "scatter = plt.scatter(x=predicted.oldpeak,y=predicted.exang,c=predicted.num.astype('category').cat.codes)\n",
        "handler=scatter.legend_elements()[0]\n",
        "plt.grid()\n",
        "plt.xlabel(\"oldpeak\")\n",
        "plt.ylabel(\"exang\")\n",
        "plt.title(\"Predicted Points of Test Dataset\",pad = 20)\n",
        "\n",
        "plt.subplots_adjust(right=2.75,top=1.123,wspace=0.125)\n",
        "plt.show()"
      ],
      "metadata": {
        "colab": {
          "base_uri": "https://localhost:8080/",
          "height": 320
        },
        "id": "sCA6omcsMd1u",
        "outputId": "dafad355-9f65-4d73-eee2-6526bb36b29e"
      },
      "execution_count": null,
      "outputs": [
        {
          "output_type": "display_data",
          "data": {
            "text/plain": [
              "<Figure size 432x288 with 2 Axes>"
            ],
            "image/png": "[encoded data removed]"
          },
          "metadata": {
            "needs_background": "light"
          }
        }
      ]
    },
    {
      "cell_type": "code",
      "source": [
        "print('Confusion Matrix :\\n', confusion_matrix(y_test, pred_svc_l))\n",
        "print()\n",
        "print('Error Rate       :', (1-(accuracy_score(y_test,pred_svc_l))))\n",
        "cm=confusion_matrix(y_test,pred_svc_l)\n",
        "TN=cm[0,0]\n",
        "FP=cm[0,1]\n",
        "FN=cm[1,0]\n",
        "TP=cm[1,1]\n",
        "sensitivity=float(TP)/(TP+FN)\n",
        "print(\"sensitivity      :\",sensitivity)\n",
        "precision=float(TP)/(TP+FP)\n",
        "print(\"precision        :\",precision)\n",
        "specificity=float(TN)/(TN+FP)\n",
        "print(\"specificity      :\",specificity)\n",
        "print('Classification Report :', classification_report(y_test,pred_svc_l))"
      ],
      "metadata": {
        "colab": {
          "base_uri": "https://localhost:8080/"
        },
        "id": "3jxWgjG2DVTk",
        "outputId": "6d401993-eb33-4593-d618-c0856433ea61"
      },
      "execution_count": null,
      "outputs": [
        {
          "output_type": "stream",
          "name": "stdout",
          "text": [
            "Confusion Matrix :\n",
            " [[25  4]\n",
            " [ 4 28]]\n",
            "\n",
            "Error Rate       : 0.1311475409836066\n",
            "sensitivity      : 0.875\n",
            "precision        : 0.875\n",
            "specificity      : 0.8620689655172413\n",
            "Classification Report :               precision    recall  f1-score   support\n",
            "\n",
            "           0       0.86      0.86      0.86        29\n",
            "           1       0.88      0.88      0.88        32\n",
            "\n",
            "    accuracy                           0.87        61\n",
            "   macro avg       0.87      0.87      0.87        61\n",
            "weighted avg       0.87      0.87      0.87        61\n",
            "\n"
          ]
        }
      ]
    },
    {
      "cell_type": "code",
      "source": [
        "#KNN\n",
        "\n",
        "from sklearn.metrics import accuracy_score, confusion_matrix,classification_report, precision_score, recall_score\n",
        "from sklearn.neighbors import KNeighborsClassifier\n",
        "knnClassifier = KNeighborsClassifier(n_neighbors=9)\n",
        "knnClassifier.fit(X_train,y_train)\n",
        "#KNeighborsClassifier()\n",
        "\n",
        "\n",
        "y_pred_knn=knnClassifier.predict(X_test)\n",
        "accuracy_knn = accuracy_score(y_pred_knn,y_test)\n",
        "print(\"KNN accuracy : \"+str(accuracy_knn))\n",
        "y_pred=pd.DataFrame(y_pred_knn)\n",
        "y_pred\n",
        "\n",
        "print('Confusion Matrix :', confusion_matrix(y_test, y_pred_knn))\n",
        "print()\n",
        "print('Error Rate       :', (1-(accuracy_score(y_test,y_pred_knn))))\n",
        "cm=confusion_matrix(y_test,y_pred_knn)\n",
        "TN=cm[0,0]\n",
        "FP=cm[0,1]\n",
        "FN=cm[1,0]\n",
        "TP=cm[1,1]\n",
        "sensitivity=float(TP)/(TP+FN)\n",
        "print(\"sensitivity      :\",sensitivity)\n",
        "precision=float(TP)/(TP+FP)\n",
        "print(\"precision        :\",precision)\n",
        "specificity=float(TN)/(TN+FP)\n",
        "print(\"specificity      :\",specificity)\n",
        "print('Classification Report :', classification_report(y_test,y_pred_knn))"
      ],
      "metadata": {
        "colab": {
          "base_uri": "https://localhost:8080/"
        },
        "id": "j-1acaAHSvlq",
        "outputId": "a96d6162-e547-4bf9-a2e6-b415338c3c80"
      },
      "execution_count": null,
      "outputs": [
        {
          "output_type": "stream",
          "name": "stdout",
          "text": [
            "KNN accuracy : 0.8524590163934426\n",
            "Confusion Matrix : [[25  4]\n",
            " [ 5 27]]\n",
            "\n",
            "Error Rate       : 0.14754098360655743\n",
            "sensitivity      : 0.84375\n",
            "precision        : 0.8709677419354839\n",
            "specificity      : 0.8620689655172413\n",
            "Classification Report :               precision    recall  f1-score   support\n",
            "\n",
            "           0       0.83      0.86      0.85        29\n",
            "           1       0.87      0.84      0.86        32\n",
            "\n",
            "    accuracy                           0.85        61\n",
            "   macro avg       0.85      0.85      0.85        61\n",
            "weighted avg       0.85      0.85      0.85        61\n",
            "\n"
          ]
        }
      ]
    },
    {
      "cell_type": "code",
      "source": [
        "original = pd.DataFrame(X_test,columns=dataset.columns[0:-1])\n",
        "y_test.index = original.index\n",
        "original['num'] = y_test\n",
        "\n",
        "predicted = pd.DataFrame(X_test,columns=dataset.columns[0:-1])"
      ],
      "metadata": {
        "id": "OjHrCvKBBAGr"
      },
      "execution_count": null,
      "outputs": []
    },
    {
      "cell_type": "code",
      "source": [
        "predicted['num'] = y_pred_knn\n",
        "plt.subplot(1, 2, 1)\n",
        "scatter = plt.scatter(x=original.oldpeak, y=original.exang,c=original.num.astype('category').cat.codes)\n",
        "handler=scatter.legend_elements()[0]\n",
        "plt.grid()\n",
        "plt.xlabel(\"oldpeak\")\n",
        "plt.ylabel(\"exang\")\n",
        "plt.title(\"Original Points of Test Dataset\",pad = 20)\n",
        "\n",
        "plt.subplot(1, 2, 2)\n",
        "scatter = plt.scatter(x=predicted.oldpeak,y=predicted.exang,c=predicted.num.astype('category').cat.codes)\n",
        "handler=scatter.legend_elements()[0]\n",
        "plt.grid()\n",
        "plt.xlabel(\"oldpeak\")\n",
        "plt.ylabel(\"exang\")\n",
        "plt.title(\"Predicted Points of Test Dataset\",pad = 20)\n",
        "\n",
        "plt.subplots_adjust(right=2.75,top=1.123,wspace=0.125)\n",
        "plt.show()"
      ],
      "metadata": {
        "colab": {
          "base_uri": "https://localhost:8080/",
          "height": 320
        },
        "id": "9tGhWg1qKcSm",
        "outputId": "eeaa9552-4cbe-4d39-d314-21196a14de5a"
      },
      "execution_count": null,
      "outputs": [
        {
          "output_type": "display_data",
          "data": {
            "text/plain": [
              "<Figure size 432x288 with 2 Axes>"
            ],
            "image/png": "[encoded data removed]"
          },
          "metadata": {
            "needs_background": "light"
          }
        }
      ]
    },
    {
      "cell_type": "code",
      "source": [
        "#ANN\n",
        "\n",
        "from tensorflow import keras\n",
        "from keras import layers\n",
        "from keras import Sequential\n",
        "from keras.layers import Dense,Dropout\n",
        "#Creating a pipeline\n",
        "model = Sequential()\n",
        "\n",
        "#1st hidden layer with input layer\n",
        "model.add(Dense(units=128,activation=\"relu\",input_dim=13))\n",
        "model.add(Dropout(0.5))\n",
        "\n",
        "#2nd hidden layer\n",
        "model.add(Dense(units=64,activation=\"relu\",))\n",
        "model.add(Dropout(0.25))\n",
        "\n",
        "#3rd hidden layer\n",
        "model.add(Dense(units=128,activation=\"relu\",))\n",
        "model.add(Dropout(0.5))\n",
        "\n",
        "#4th hidden layer\n",
        "model.add(Dense(units=64,activation=\"relu\",input_dim=13))\n",
        "model.add(Dropout(0.25))\n",
        "\n",
        "#output layer\n",
        "model.add(Dense(units=1,activation=\"sigmoid\"))\n",
        "model.add(Dropout(0.5))\n",
        "model.summary()\n",
        "model.compile(loss=\"binary_crossentropy\", optimizer=\"adam\", metrics=[\"accuracy\"])\n",
        "model_history=model.fit(X_train,y_train,validation_split=0.2,epochs=1000, batch_size=10,verbose=0)\n",
        "\n",
        "y_pred_ann = model.predict(X_test)\n",
        "y_pred_ann = (y_pred_ann > 0.5)\n",
        "accuracy_ann=accuracy_score(y_pred_ann, y_test)\n",
        "print(\"ANN accuracy : \"+str(accuracy_ann))\n",
        "\n",
        "print('Confusion Matrix :', confusion_matrix(y_test, y_pred_ann))\n",
        "print('Error Rate       :', (1-(accuracy_score(y_test,y_pred_ann))))\n",
        "cm=confusion_matrix(y_test,y_pred_ann)\n",
        "TN=cm[0,0]\n",
        "FP=cm[0,1]\n",
        "FN=cm[1,0]\n",
        "TP=cm[1,1]\n",
        "sensitivity=float(TP)/(TP+FN)\n",
        "print(\"sensitivity      :\",sensitivity)\n",
        "precision=float(TP)/(TP+FP)\n",
        "print(\"precision        :\",precision)\n",
        "specificity=float(TN)/(TN+FP)\n",
        "print(\"specificity      :\",specificity)\n",
        "print('Classification Report :', classification_report(y_test,y_pred_ann))"
      ],
      "metadata": {
        "colab": {
          "base_uri": "https://localhost:8080/"
        },
        "id": "roPuUFTnU42S",
        "outputId": "a322c48d-826b-4358-9737-f5f1abfb7785"
      },
      "execution_count": null,
      "outputs": [
        {
          "output_type": "stream",
          "name": "stdout",
          "text": [
            "Model: \"sequential\"\n",
            "_________________________________________________________________\n",
            " Layer (type)                Output Shape              Param #   \n",
            "=================================================================\n",
            " dense (Dense)               (None, 128)               1792      \n",
            "                                                                 \n",
            " dropout (Dropout)           (None, 128)               0         \n",
            "                                                                 \n",
            " dense_1 (Dense)             (None, 64)                8256      \n",
            "                                                                 \n",
            " dropout_1 (Dropout)         (None, 64)                0         \n",
            "                                                                 \n",
            " dense_2 (Dense)             (None, 128)               8320      \n",
            "                                                                 \n",
            " dropout_2 (Dropout)         (None, 128)               0         \n",
            "                                                                 \n",
            " dense_3 (Dense)             (None, 64)                8256      \n",
            "                                                                 \n",
            " dropout_3 (Dropout)         (None, 64)                0         \n",
            "                                                                 \n",
            " dense_4 (Dense)             (None, 1)                 65        \n",
            "                                                                 \n",
            " dropout_4 (Dropout)         (None, 1)                 0         \n",
            "                                                                 \n",
            "=================================================================\n",
            "Total params: 26,689\n",
            "Trainable params: 26,689\n",
            "Non-trainable params: 0\n",
            "_________________________________________________________________\n",
            "2/2 [==============================] - 0s 4ms/step\n",
            "ANN accuracy : 0.8032786885245902\n",
            "Confusion Matrix : [[23  6]\n",
            " [ 6 26]]\n",
            "Error Rate       : 0.19672131147540983\n",
            "sensitivity      : 0.8125\n",
            "precision        : 0.8125\n",
            "specificity      : 0.7931034482758621\n",
            "Classification Report :               precision    recall  f1-score   support\n",
            "\n",
            "           0       0.79      0.79      0.79        29\n",
            "           1       0.81      0.81      0.81        32\n",
            "\n",
            "    accuracy                           0.80        61\n",
            "   macro avg       0.80      0.80      0.80        61\n",
            "weighted avg       0.80      0.80      0.80        61\n",
            "\n"
          ]
        }
      ]
    },
    {
      "cell_type": "code",
      "source": [
        "# summarize history for accuracy of ANN\n",
        "plt.plot(model_history.history['accuracy'])\n",
        "plt.plot(model_history.history['val_accuracy'])\n",
        "plt.title('ANN Model Accuracy')\n",
        "plt.ylabel('accuracy')\n",
        "plt.xlabel('epoch')\n",
        "plt.legend(['train', 'test'], loc='upper left')"
      ],
      "metadata": {
        "colab": {
          "base_uri": "https://localhost:8080/",
          "height": 313
        },
        "id": "M0lpGxzBz8OV",
        "outputId": "df2a4534-27c4-409e-8a46-124458fe592c"
      },
      "execution_count": null,
      "outputs": [
        {
          "output_type": "execute_result",
          "data": {
            "text/plain": [
              "<matplotlib.legend.Legend at 0x7f5a066a61f0>"
            ]
          },
          "metadata": {},
          "execution_count": 50
        },
        {
          "output_type": "display_data",
          "data": {
            "text/plain": [
              "<Figure size 432x288 with 1 Axes>"
            ],
            "image/png": "[encoded data removed]"
          },
          "metadata": {
            "needs_background": "light"
          }
        }
      ]
    },
    {
      "cell_type": "code",
      "source": [
        "# summarize history for loss\n",
        "plt.plot(model_history.history['loss'])\n",
        "plt.plot(model_history.history['val_loss'])\n",
        "plt.title('ANN Model Loss')\n",
        "plt.ylabel('loss')\n",
        "plt.xlabel('epoch')\n",
        "plt.legend(['train', 'test'], loc='upper left')\n",
        "plt.show()"
      ],
      "metadata": {
        "colab": {
          "base_uri": "https://localhost:8080/",
          "height": 295
        },
        "id": "mcZttfX70v3a",
        "outputId": "a8633a4b-a8c3-4678-ad4d-68fb23fb2b95"
      },
      "execution_count": null,
      "outputs": [
        {
          "output_type": "display_data",
          "data": {
            "text/plain": [
              "<Figure size 432x288 with 1 Axes>"
            ],
            "image/png": "[encoded data removed]"
          },
          "metadata": {
            "needs_background": "light"
          }
        }
      ]
    },
    {
      "cell_type": "code",
      "source": [
        "#ANN output\n",
        "\n",
        "'''ann_test_loss, ann_test_accuracy = model.evaluate(X_test, y_test,verbose=0)\n",
        "print(\"Accuracy score for ANN = {}\".format(ann_test_accuracy))'''"
      ],
      "metadata": {
        "colab": {
          "base_uri": "https://localhost:8080/",
          "height": 54
        },
        "id": "ne24ZXX0WCTj",
        "outputId": "8e602ea1-5fc6-46d3-eff5-fa9b2771cbcc"
      },
      "execution_count": null,
      "outputs": [
        {
          "output_type": "execute_result",
          "data": {
            "text/plain": [
              "'ann_test_loss, ann_test_accuracy = model.evaluate(X_test, y_test,verbose=0)\\nprint(\"Accuracy score for ANN = {}\".format(ann_test_accuracy))'"
            ],
            "application/vnd.google.colaboratory.intrinsic+json": {
              "type": "string"
            }
          },
          "metadata": {},
          "execution_count": 52
        }
      ]
    },
    {
      "cell_type": "code",
      "source": [
        "#HRFLM\n",
        "\n",
        "from copy import deepcopy\n",
        "from sklearn.metrics import mean_squared_error\n",
        "class ModelTree(object):\n",
        "    def __init__(self, model, max_depth=5, min_samples_leaf=10):\n",
        "        self.model = model\n",
        "        self.max_depth = max_depth\n",
        "        self.min_samples_leaf = min_samples_leaf\n",
        "        self.tree = None\n",
        "    def fit(self, X, y, verbose=False):\n",
        "        # Settings\n",
        "        model = self.model\n",
        "        min_samples_leaf = self.min_samples_leaf\n",
        "        max_depth = self.max_depth\n",
        "        if verbose:\n",
        "            print(\" max_depth={}, min_samples_leaf={}...\".format(max_depth, min_samples_leaf))\n",
        "        def _build_tree(X, y):\n",
        "            global index_node_global\n",
        "            def _create_node(X, y, depth, container):\n",
        "                loss_node, model_node = _fit_model(X, y, model)\n",
        "                node = {\"name\": \"node\",\n",
        "                        \"index\": container[\"index_node_global\"],\n",
        "                        \"loss\": loss_node,\n",
        "                        \"model\": model_node,\n",
        "                        \"data\": (X, y),\n",
        "                        \"n_samples\": len(X),\n",
        "                        \"j_feature\": None,\n",
        "                        \"threshold\": None,\n",
        "                        \"children\": {\"left\": None, \"right\": None},\n",
        "                        \"depth\": depth}\n",
        "                container[\"index_node_global\"] += 1\n",
        "                return node\n",
        "            # Recursively split node + traverse node until a terminal node is reached\n",
        "            def _split_traverse_node(node, container):\n",
        "                # Perform split and collect result\n",
        "                result = _splitter(node, model, max_depth=max_depth,min_samples_leaf=min_samples_leaf)\n",
        "                # Return terminal node if split is not advised\n",
        "                if not result[\"did_split\"]:\n",
        "                    if verbose:\n",
        "                        depth_spacing_str = \" \".join([\" \"] * node[\"depth\"])\n",
        "                        print(\" {}*leaf {} @ depth {}: loss={:.6f}, N={}\".format(depth_spacing_str, node[\"index\"], node[\"depth\"], node[\"loss\"], result[\"N\"]))\n",
        "                    return\n",
        "\n",
        "                # Update node information based on splitting result\n",
        "                node[\"j_feature\"] = result[\"j_feature\"]\n",
        "                node[\"threshold\"] = result[\"threshold\"]\n",
        "                del node[\"data\"]  # delete node stored data\n",
        "\n",
        "                # Extract splitting results\n",
        "                (X_left, y_left), (X_right, y_right) = result[\"data\"]\n",
        "                model_left, model_right = result[\"models\"]\n",
        "\n",
        "                # Report created node to user\n",
        "                if verbose:\n",
        "                    depth_spacing_str = \" \".join([\" \"] * node[\"depth\"])\n",
        "                    print(\" {}node {} @ depth {}: loss={:.6f}, j_feature={}, threshold={:.6f}, N=({},{})\".format(depth_spacing_str, node[\"index\"], node[\"depth\"], node[\"loss\"], node[\"j_feature\"], node[\"threshold\"], len(X_left), len(X_right)))\n",
        "\n",
        "                # Create children nodes\n",
        "                node[\"children\"][\"left\"] = _create_node(X_left, y_left, node[\"depth\"]+1, container)\n",
        "                node[\"children\"][\"right\"] = _create_node(X_right, y_right, node[\"depth\"]+1, container)\n",
        "                node[\"children\"][\"left\"][\"model\"] = model_left\n",
        "                node[\"children\"][\"right\"][\"model\"] = model_right\n",
        "\n",
        "                # Split nodes\n",
        "                _split_traverse_node(node[\"children\"][\"left\"], container)\n",
        "                _split_traverse_node(node[\"children\"][\"right\"], container)\n",
        "\n",
        "            container = {\"index_node_global\": 0}  # mutatable container\n",
        "            root = _create_node(X, y, 0, container)  # depth 0 root node\n",
        "            _split_traverse_node(root, container)  # split and traverse root node\n",
        "\n",
        "            return root\n",
        "\n",
        "        # Construct tree\n",
        "        self.tree = _build_tree(X, y)\n",
        "        return self.tree\n",
        "    # ======================\n",
        "    # Predict\n",
        "    # ======================\n",
        "    def predict(self, X):\n",
        "        assert self.tree is not None\n",
        "        def _predict(node, x):\n",
        "            no_children = node[\"children\"][\"left\"] is None and \\\n",
        "                          node[\"children\"][\"right\"] is None\n",
        "            if no_children:\n",
        "                y_pred_x = node[\"model\"].predict([x])[0]\n",
        "                return y_pred_x\n",
        "            else:\n",
        "                if x[node[\"j_feature\"]] <= node[\"threshold\"]:  # x[j] < threshold\n",
        "                    return _predict(node[\"children\"][\"left\"], x)\n",
        "                else:  # x[j] > threshold\n",
        "                    return _predict(node[\"children\"][\"right\"], x)\n",
        "        y_pred = np.array([_predict(self.tree, x) for x in X])\n",
        "        return y_pred\n",
        "    # ======================\n",
        "    # Loss\n",
        "    # ======================\n",
        "    def loss(self, X, y, y_pred):\n",
        "        loss = self.model.loss(X, y, y_pred)\n",
        "        return loss\n",
        "def _splitter(node, model,max_depth=5, min_samples_leaf=10):\n",
        "    # Extract data\n",
        "    X, y = node[\"data\"]\n",
        "    depth = node[\"depth\"]\n",
        "    N, d = X.shape\n",
        "\n",
        "    # Find feature splits that might improve loss\n",
        "    did_split = False\n",
        "    loss_best = node[\"loss\"]\n",
        "    data_best = None\n",
        "    models_best = None\n",
        "    j_feature_best = None\n",
        "    threshold_best = None\n",
        "\n",
        "    # Perform threshold split search only if node has not hit max depth\n",
        "    if (depth >= 0) and (depth < max_depth):\n",
        "        for j_feature in range(d):\n",
        "            threshold_search = []\n",
        "            for i in range(N):\n",
        "                threshold_search.append(X[i, j_feature])\n",
        "            # Perform threshold split search on j_feature\n",
        "            for threshold in threshold_search:\n",
        "                # Split data based on threshold\n",
        "                (X_left, y_left), (X_right, y_right) = _split_data(j_feature, threshold, X, y)\n",
        "                N_left, N_right = len(X_left), len(X_right)\n",
        "\n",
        "                # Splitting conditions\n",
        "                split_conditions = [N_left >= min_samples_leaf,\n",
        "                                    N_right >= min_samples_leaf]\n",
        "\n",
        "                # Do not attempt to split if split conditions not satisfied\n",
        "                if not all(split_conditions):\n",
        "                    continue\n",
        "\n",
        "                # Compute weight loss function\n",
        "                loss_left, model_left = _fit_model(X_left, y_left, model)\n",
        "                loss_right, model_right = _fit_model(X_right, y_right, model)\n",
        "                loss_split = (N_left*loss_left + N_right*loss_right) / N\n",
        "\n",
        "                # Update best parameters if loss is lower\n",
        "                if loss_split < loss_best:\n",
        "                    did_split = True\n",
        "                    loss_best = loss_split\n",
        "                    models_best = [model_left, model_right]\n",
        "                    data_best = [(X_left, y_left), (X_right, y_right)]\n",
        "                    j_feature_best = j_feature\n",
        "                    threshold_best = threshold\n",
        "\n",
        "    # Return the best result\n",
        "    result = {\"did_split\": did_split,\n",
        "              \"loss\": loss_best,\n",
        "              \"models\": models_best,\n",
        "              \"data\": data_best,\n",
        "              \"j_feature\": j_feature_best,\n",
        "              \"threshold\": threshold_best,\n",
        "              \"N\": N}\n",
        "\n",
        "    return result\n",
        "\n",
        "def _fit_model(X, y, model):\n",
        "    model_copy = deepcopy(model)  # must deepcopy the model!\n",
        "    model_copy.fit(X,y)\n",
        "    y_pred = model_copy.predict(X)\n",
        "    loss = model_copy.loss(X, y, y_pred)\n",
        "    assert loss >= 0.0\n",
        "    return loss, model_copy\n",
        "\n",
        "def _split_data(j_feature, threshold, X, y):\n",
        "    idx_left = np.where(X[:, j_feature] <= threshold)[0]\n",
        "    idx_right = np.delete(np.arange(0, len(X)), idx_left)\n",
        "    assert len(idx_left) + len(idx_right) == len(X)\n",
        "    idx_left_bool = [False for i in X]\n",
        "    idx_right_bool = [False for i in X]\n",
        "    for i in idx_left:\n",
        "      idx_left_bool[i] = True\n",
        "    for i in idx_right:\n",
        "      idx_right_bool[i] = True\n",
        "    return (X[idx_left_bool], y[idx_left_bool]), (X[idx_right_bool], y[idx_right_bool])\n",
        "\n",
        "class logistic_regr:\n",
        "\n",
        "    def __init__(self):\n",
        "        from sklearn.linear_model import LogisticRegression\n",
        "        self.model = LogisticRegression(penalty=\"l2\",solver='liblinear')\n",
        "        self.flag = False\n",
        "        self.flag_y_pred = None\n",
        "\n",
        "    def fit(self, X, y):\n",
        "        y_unique = list(set(y))\n",
        "        if len(y_unique) == 1:\n",
        "            self.flag = True\n",
        "            self.flag_y_pred = y_unique[0]\n",
        "        else:\n",
        "            self.model.fit(X, y)\n",
        "\n",
        "    def predict(self, X):\n",
        "        if self.flag:\n",
        "            return self.flag_y_pred * np.ones((len(X),), dtype=int)\n",
        "        else:\n",
        "            return self.model.predict(X)\n",
        "\n",
        "    def loss(self, X, y, y_pred):\n",
        "        return mean_squared_error(y, y_pred)\n",
        "\n",
        "    def predict_proba(self,X):\n",
        "        return self.model.predict_proba(X)\n",
        "\n",
        "\n",
        "#No of decisioin Trees\n",
        "esitmators=5\n",
        "pred_HRFLM=[]\n",
        "n_train_split=int(len(X_train)/esitmators)\n",
        "inital_train=0\n",
        "final_train=0\n",
        "yy_pred=[]\n",
        "classifier=None\n",
        "for i in range(1,esitmators+1):\n",
        "    classifier =logistic_regr()\n",
        "    final_train=i*n_train_split\n",
        "    temp_X_train=X_train[inital_train:final_train]\n",
        "    temp_y_train=y_train[inital_train:final_train]\n",
        "    L=ModelTree(classifier,max_depth=20, min_samples_leaf=10)\n",
        "    node=L.fit(temp_X_train,temp_y_train,verbose=False)\n",
        "    classifier=node[\"model\"]\n",
        "    y_pred_temp=L.predict(X_test)\n",
        "    yy_pred.append(y_pred_temp)\n",
        "for j in range(len(yy_pred[0])):\n",
        "    curr=[]\n",
        "    for i in range(len(yy_pred)):\n",
        "        curr.append(yy_pred[i][j])\n",
        "    a=curr.count(0)\n",
        "    b=curr.count(1)\n",
        "    if a>b:\n",
        "        pred_HRFLM.append(0)\n",
        "    else:\n",
        "        pred_HRFLM.append(1)"
      ],
      "metadata": {
        "id": "e9_MnwvNWcTv"
      },
      "execution_count": null,
      "outputs": []
    },
    {
      "cell_type": "code",
      "source": [
        "#HRFLM output\n",
        "\n",
        "print (\"HRFLM:                \", accuracy_score(y_test, pred_HRFLM))"
      ],
      "metadata": {
        "colab": {
          "base_uri": "https://localhost:8080/"
        },
        "id": "UlfUk7XTX-PT",
        "outputId": "90419b6e-750c-4b8a-db1c-f8a706bdb352"
      },
      "execution_count": null,
      "outputs": [
        {
          "output_type": "stream",
          "name": "stdout",
          "text": [
            "HRFLM:                 0.8852459016393442\n"
          ]
        }
      ]
    },
    {
      "cell_type": "code",
      "source": [
        "print('Confusion Matrix :', confusion_matrix(y_test,pred_HRFLM))\n",
        "print()\n",
        "print('ERROR RATE       :',(1-accuracy_score(y_test, pred_HRFLM)))\n",
        "cm=confusion_matrix(y_test,pred_HRFLM)\n",
        "TN=cm[0,0]\n",
        "FP=cm[0,1]\n",
        "FN=cm[1,0]\n",
        "TP=cm[1,1]\n",
        "sensitivity=float(TP)/(TP+FN)\n",
        "print(\"sensitivity      :\",sensitivity)\n",
        "precision=float(TP)/(TP+FP)\n",
        "print(\"precision        :\",precision)\n",
        "specificity=float(TN)/(TN+FP)\n",
        "print(\"specificity      :\",specificity)\n",
        "print('Classification Report :', classification_report(y_test,pred_HRFLM))"
      ],
      "metadata": {
        "colab": {
          "base_uri": "https://localhost:8080/"
        },
        "id": "lYMFzXz9Dsba",
        "outputId": "aad445fa-12a3-4b07-c134-3e067a8c61b8"
      },
      "execution_count": null,
      "outputs": [
        {
          "output_type": "stream",
          "name": "stdout",
          "text": [
            "Confusion Matrix : [[26  3]\n",
            " [ 4 28]]\n",
            "\n",
            "ERROR RATE       : 0.11475409836065575\n",
            "sensitivity      : 0.875\n",
            "precision        : 0.9032258064516129\n",
            "specificity      : 0.896551724137931\n",
            "Classification Report :               precision    recall  f1-score   support\n",
            "\n",
            "           0       0.87      0.90      0.88        29\n",
            "           1       0.90      0.88      0.89        32\n",
            "\n",
            "    accuracy                           0.89        61\n",
            "   macro avg       0.88      0.89      0.89        61\n",
            "weighted avg       0.89      0.89      0.89        61\n",
            "\n"
          ]
        }
      ]
    },
    {
      "cell_type": "code",
      "source": [
        "predicted['num'] = pred_HRFLM\n",
        "\n",
        "plt.subplot(1, 2, 1)\n",
        "scatter = plt.scatter(x=original.oldpeak, y=original.exang,c=original.num.astype('category').cat.codes)\n",
        "handler=scatter.legend_elements()[0]\n",
        "plt.grid()\n",
        "plt.xlabel(\"oldpeak\")\n",
        "plt.ylabel(\"exang\")\n",
        "plt.title(\"Original Points of Test Dataset\",pad = 20)\n",
        "\n",
        "plt.subplot(1, 2, 2)\n",
        "scatter = plt.scatter(x=predicted.oldpeak,y=predicted.exang,c=predicted.num.astype('category').cat.codes)\n",
        "handler=scatter.legend_elements()[0]\n",
        "plt.grid()\n",
        "plt.xlabel(\"oldpeak\")\n",
        "plt.ylabel(\"exang\")\n",
        "plt.title(\"Predicted Points of Test Dataset\",pad = 20)\n",
        "\n",
        "plt.subplots_adjust(right=2.75,top=1.123,wspace=0.125)\n",
        "plt.show()"
      ],
      "metadata": {
        "colab": {
          "base_uri": "https://localhost:8080/",
          "height": 320
        },
        "id": "AXn-gm8IkzOC",
        "outputId": "21aaefcb-f1ce-4a16-85cc-73c0bce77b68"
      },
      "execution_count": null,
      "outputs": [
        {
          "output_type": "display_data",
          "data": {
            "text/plain": [
              "<Figure size 432x288 with 2 Axes>"
            ],
            "image/png": "[encoded data removed]"
          },
          "metadata": {
            "needs_background": "light"
          }
        }
      ]
    },
    {
      "cell_type": "code",
      "source": [
        "#Result\n",
        "\n",
        "accuracy = [accuracy_knn, accuracy_score(y_test,pred_dtc), accuracy_score(y_test,pred_svc_l),accuracy_rf,accuracy_score(y_test,pred_nbc),accuracy_ann,accuracy_score(y_test, pred_HRFLM)]\n",
        "models = [\"K-Nearest Neighbors\",\"Decision Tree\",\"Support Vector Machine\",\"Random Forest\",\"Naive Bayes\",\"ANN\",\"HRFLM\"]\n",
        "\n",
        "for i in range(len(models)):\n",
        "    print(\"The achieved accuracy of \"+models[i]+\" is: \"+str(accuracy[i]))"
      ],
      "metadata": {
        "colab": {
          "base_uri": "https://localhost:8080/"
        },
        "id": "YFj5YgA4YNhK",
        "outputId": "d4771cdc-000f-43d8-88df-df4e71099b01"
      },
      "execution_count": null,
      "outputs": [
        {
          "output_type": "stream",
          "name": "stdout",
          "text": [
            "The achieved accuracy of K-Nearest Neighbors is: 0.8524590163934426\n",
            "The achieved accuracy of Decision Tree is: 0.7377049180327869\n",
            "The achieved accuracy of Support Vector Machine is: 0.8688524590163934\n",
            "The achieved accuracy of Random Forest is: 0.8360655737704918\n",
            "The achieved accuracy of Naive Bayes is: 0.8360655737704918\n",
            "The achieved accuracy of ANN is: 0.8032786885245902\n",
            "The achieved accuracy of HRFLM is: 0.8852459016393442\n"
          ]
        }
      ]
    },
    {
      "cell_type": "code",
      "source": [
        "sns.set(rc={'figure.figsize':(15,7)})\n",
        "sns.barplot(models,accuracy)\n",
        "plt.xlabel(\"Models\", fontweight=\"bold\")\n",
        "plt.ylabel(\"Accuracy\", fontweight=\"bold\")"
      ],
      "metadata": {
        "colab": {
          "base_uri": "https://localhost:8080/",
          "height": 522
        },
        "id": "sIbjSrwj1Dlg",
        "outputId": "8ca8c2fc-5a29-4f02-c362-50ea0bac372b"
      },
      "execution_count": null,
      "outputs": [
        {
          "output_type": "stream",
          "name": "stderr",
          "text": [
            "/usr/local/lib/python3.8/dist-packages/seaborn/_decorators.py:36: FutureWarning: Pass the following variables as keyword args: x, y. From version 0.12, the only valid positional argument will be `data`, and passing other arguments without an explicit keyword will result in an error or misinterpretation.\n",
            "  warnings.warn(\n"
          ]
        },
        {
          "output_type": "execute_result",
          "data": {
            "text/plain": [
              "Text(0, 0.5, 'Accuracy')"
            ]
          },
          "metadata": {},
          "execution_count": 58
        },
        {
          "output_type": "display_data",
          "data": {
            "text/plain": [
              "<Figure size 1080x504 with 1 Axes>"
            ],
            "image/png": "[encoded data removed]"
          },
          "metadata": {}
        }
      ]
    },
    {
      "cell_type": "code",
      "source": [
        "\n",
        "plt.rcParams[\"font.size\"] = 10\n",
        "\n",
        "plt.plot(accuracy)\n",
        "accuracy = list(enumerate(accuracy))\n",
        "plt.annotate(\"KNN\", accuracy[0])\n",
        "plt.annotate(\"Decision Tree\", accuracy[1])\n",
        "\n",
        "plt.annotate(\"SVM\", accuracy[2])\n",
        "plt.annotate(\"Random Forest\", accuracy[3])\n",
        "plt.annotate(\"Naive Bayes\", accuracy[4])\n",
        "plt.annotate(\"ANN\", accuracy[5])\n",
        "plt.annotate(\"HRFLM\",accuracy[6])\n",
        "\n",
        "\n",
        "plt.tick_params(bottom=False, labelbottom=False)\n",
        "plt.xlabel(\"Models\")\n",
        "plt.ylabel(\"Accuracy\")\n",
        "plt.title(\"Model Accuracy\", fontweight=\"bold\")\n",
        "\n",
        "plt.show()"
      ],
      "metadata": {
        "colab": {
          "base_uri": "https://localhost:8080/",
          "height": 444
        },
        "id": "0QXn9L2A2C_e",
        "outputId": "a88006f3-000f-4a70-ac48-c8172666ca56"
      },
      "execution_count": null,
      "outputs": [
        {
          "output_type": "display_data",
          "data": {
            "text/plain": [
              "<Figure size 1080x504 with 1 Axes>"
            ],
            "image/png": "[encoded data removed]"
          },
          "metadata": {}
        }
      ]
    }
  ]
}